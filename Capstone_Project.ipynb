{
 "cells": [
  {
   "cell_type": "markdown",
   "id": "above-tiger",
   "metadata": {},
   "source": [
    "#### Steps to take include\n",
    "* Import libraries to be used\n",
    "* Import data\n",
    "* Document each stage you do\n",
    "* Clean data\n",
    "* Visualize raw data\n",
    "* Process data\n",
    "* Model data\n",
    "* Deploy data\n",
    "* Predict test and validation data"
   ]
  },
  {
   "cell_type": "markdown",
   "id": "bizarre-tampa",
   "metadata": {},
   "source": [
    "#                                    Predicting Announcement of Disaster using Tweets"
   ]
  },
  {
   "cell_type": "markdown",
   "id": "polar-quick",
   "metadata": {},
   "source": [
    "### Import Data"
   ]
  },
  {
   "cell_type": "code",
   "execution_count": 144,
   "id": "downtown-invalid",
   "metadata": {},
   "outputs": [],
   "source": [
    "import pandas as pd\n",
    "import numpy as np\n",
    "import boto3\n",
    "import sagemaker"
   ]
  },
  {
   "cell_type": "code",
   "execution_count": 146,
   "id": "regional-victim",
   "metadata": {},
   "outputs": [
    {
     "name": "stdout",
     "output_type": "stream",
     "text": [
      "(7613, 5)\n"
     ]
    },
    {
     "data": {
      "text/html": [
       "<div>\n",
       "<style scoped>\n",
       "    .dataframe tbody tr th:only-of-type {\n",
       "        vertical-align: middle;\n",
       "    }\n",
       "\n",
       "    .dataframe tbody tr th {\n",
       "        vertical-align: top;\n",
       "    }\n",
       "\n",
       "    .dataframe thead th {\n",
       "        text-align: right;\n",
       "    }\n",
       "</style>\n",
       "<table border=\"1\" class=\"dataframe\">\n",
       "  <thead>\n",
       "    <tr style=\"text-align: right;\">\n",
       "      <th></th>\n",
       "      <th>id</th>\n",
       "      <th>keyword</th>\n",
       "      <th>location</th>\n",
       "      <th>text</th>\n",
       "      <th>target</th>\n",
       "    </tr>\n",
       "  </thead>\n",
       "  <tbody>\n",
       "    <tr>\n",
       "      <th>0</th>\n",
       "      <td>1</td>\n",
       "      <td>NaN</td>\n",
       "      <td>NaN</td>\n",
       "      <td>Our Deeds are the Reason of this #earthquake M...</td>\n",
       "      <td>1</td>\n",
       "    </tr>\n",
       "    <tr>\n",
       "      <th>1</th>\n",
       "      <td>4</td>\n",
       "      <td>NaN</td>\n",
       "      <td>NaN</td>\n",
       "      <td>Forest fire near La Ronge Sask. Canada</td>\n",
       "      <td>1</td>\n",
       "    </tr>\n",
       "    <tr>\n",
       "      <th>2</th>\n",
       "      <td>5</td>\n",
       "      <td>NaN</td>\n",
       "      <td>NaN</td>\n",
       "      <td>All residents asked to 'shelter in place' are ...</td>\n",
       "      <td>1</td>\n",
       "    </tr>\n",
       "    <tr>\n",
       "      <th>3</th>\n",
       "      <td>6</td>\n",
       "      <td>NaN</td>\n",
       "      <td>NaN</td>\n",
       "      <td>13,000 people receive #wildfires evacuation or...</td>\n",
       "      <td>1</td>\n",
       "    </tr>\n",
       "    <tr>\n",
       "      <th>4</th>\n",
       "      <td>7</td>\n",
       "      <td>NaN</td>\n",
       "      <td>NaN</td>\n",
       "      <td>Just got sent this photo from Ruby #Alaska as ...</td>\n",
       "      <td>1</td>\n",
       "    </tr>\n",
       "    <tr>\n",
       "      <th>5</th>\n",
       "      <td>8</td>\n",
       "      <td>NaN</td>\n",
       "      <td>NaN</td>\n",
       "      <td>#RockyFire Update =&gt; California Hwy. 20 closed...</td>\n",
       "      <td>1</td>\n",
       "    </tr>\n",
       "    <tr>\n",
       "      <th>6</th>\n",
       "      <td>10</td>\n",
       "      <td>NaN</td>\n",
       "      <td>NaN</td>\n",
       "      <td>#flood #disaster Heavy rain causes flash flood...</td>\n",
       "      <td>1</td>\n",
       "    </tr>\n",
       "    <tr>\n",
       "      <th>7</th>\n",
       "      <td>13</td>\n",
       "      <td>NaN</td>\n",
       "      <td>NaN</td>\n",
       "      <td>I'm on top of the hill and I can see a fire in...</td>\n",
       "      <td>1</td>\n",
       "    </tr>\n",
       "    <tr>\n",
       "      <th>8</th>\n",
       "      <td>14</td>\n",
       "      <td>NaN</td>\n",
       "      <td>NaN</td>\n",
       "      <td>There's an emergency evacuation happening now ...</td>\n",
       "      <td>1</td>\n",
       "    </tr>\n",
       "    <tr>\n",
       "      <th>9</th>\n",
       "      <td>15</td>\n",
       "      <td>NaN</td>\n",
       "      <td>NaN</td>\n",
       "      <td>I'm afraid that the tornado is coming to our a...</td>\n",
       "      <td>1</td>\n",
       "    </tr>\n",
       "  </tbody>\n",
       "</table>\n",
       "</div>"
      ],
      "text/plain": [
       "   id keyword location                                               text  \\\n",
       "0   1     NaN      NaN  Our Deeds are the Reason of this #earthquake M...   \n",
       "1   4     NaN      NaN             Forest fire near La Ronge Sask. Canada   \n",
       "2   5     NaN      NaN  All residents asked to 'shelter in place' are ...   \n",
       "3   6     NaN      NaN  13,000 people receive #wildfires evacuation or...   \n",
       "4   7     NaN      NaN  Just got sent this photo from Ruby #Alaska as ...   \n",
       "5   8     NaN      NaN  #RockyFire Update => California Hwy. 20 closed...   \n",
       "6  10     NaN      NaN  #flood #disaster Heavy rain causes flash flood...   \n",
       "7  13     NaN      NaN  I'm on top of the hill and I can see a fire in...   \n",
       "8  14     NaN      NaN  There's an emergency evacuation happening now ...   \n",
       "9  15     NaN      NaN  I'm afraid that the tornado is coming to our a...   \n",
       "\n",
       "   target  \n",
       "0       1  \n",
       "1       1  \n",
       "2       1  \n",
       "3       1  \n",
       "4       1  \n",
       "5       1  \n",
       "6       1  \n",
       "7       1  \n",
       "8       1  \n",
       "9       1  "
      ]
     },
     "execution_count": 146,
     "metadata": {},
     "output_type": "execute_result"
    }
   ],
   "source": [
    "# check contents of train and test data\n",
    "train = pd.read_csv('./data/train.csv')\n",
    "test = pd.read_csv('./data/test.csv')\n",
    "\n",
    "print(train.shape)\n",
    "train.head(10)"
   ]
  },
  {
   "cell_type": "code",
   "execution_count": 147,
   "id": "convenient-rough",
   "metadata": {},
   "outputs": [
    {
     "name": "stdout",
     "output_type": "stream",
     "text": [
      "(3263, 4)\n"
     ]
    },
    {
     "data": {
      "text/html": [
       "<div>\n",
       "<style scoped>\n",
       "    .dataframe tbody tr th:only-of-type {\n",
       "        vertical-align: middle;\n",
       "    }\n",
       "\n",
       "    .dataframe tbody tr th {\n",
       "        vertical-align: top;\n",
       "    }\n",
       "\n",
       "    .dataframe thead th {\n",
       "        text-align: right;\n",
       "    }\n",
       "</style>\n",
       "<table border=\"1\" class=\"dataframe\">\n",
       "  <thead>\n",
       "    <tr style=\"text-align: right;\">\n",
       "      <th></th>\n",
       "      <th>id</th>\n",
       "      <th>keyword</th>\n",
       "      <th>location</th>\n",
       "      <th>text</th>\n",
       "    </tr>\n",
       "  </thead>\n",
       "  <tbody>\n",
       "    <tr>\n",
       "      <th>0</th>\n",
       "      <td>0</td>\n",
       "      <td>NaN</td>\n",
       "      <td>NaN</td>\n",
       "      <td>Just happened a terrible car crash</td>\n",
       "    </tr>\n",
       "    <tr>\n",
       "      <th>1</th>\n",
       "      <td>2</td>\n",
       "      <td>NaN</td>\n",
       "      <td>NaN</td>\n",
       "      <td>Heard about #earthquake is different cities, s...</td>\n",
       "    </tr>\n",
       "    <tr>\n",
       "      <th>2</th>\n",
       "      <td>3</td>\n",
       "      <td>NaN</td>\n",
       "      <td>NaN</td>\n",
       "      <td>there is a forest fire at spot pond, geese are...</td>\n",
       "    </tr>\n",
       "    <tr>\n",
       "      <th>3</th>\n",
       "      <td>9</td>\n",
       "      <td>NaN</td>\n",
       "      <td>NaN</td>\n",
       "      <td>Apocalypse lighting. #Spokane #wildfires</td>\n",
       "    </tr>\n",
       "    <tr>\n",
       "      <th>4</th>\n",
       "      <td>11</td>\n",
       "      <td>NaN</td>\n",
       "      <td>NaN</td>\n",
       "      <td>Typhoon Soudelor kills 28 in China and Taiwan</td>\n",
       "    </tr>\n",
       "    <tr>\n",
       "      <th>5</th>\n",
       "      <td>12</td>\n",
       "      <td>NaN</td>\n",
       "      <td>NaN</td>\n",
       "      <td>We're shaking...It's an earthquake</td>\n",
       "    </tr>\n",
       "    <tr>\n",
       "      <th>6</th>\n",
       "      <td>21</td>\n",
       "      <td>NaN</td>\n",
       "      <td>NaN</td>\n",
       "      <td>They'd probably still show more life than Arse...</td>\n",
       "    </tr>\n",
       "    <tr>\n",
       "      <th>7</th>\n",
       "      <td>22</td>\n",
       "      <td>NaN</td>\n",
       "      <td>NaN</td>\n",
       "      <td>Hey! How are you?</td>\n",
       "    </tr>\n",
       "    <tr>\n",
       "      <th>8</th>\n",
       "      <td>27</td>\n",
       "      <td>NaN</td>\n",
       "      <td>NaN</td>\n",
       "      <td>What a nice hat?</td>\n",
       "    </tr>\n",
       "    <tr>\n",
       "      <th>9</th>\n",
       "      <td>29</td>\n",
       "      <td>NaN</td>\n",
       "      <td>NaN</td>\n",
       "      <td>Fuck off!</td>\n",
       "    </tr>\n",
       "  </tbody>\n",
       "</table>\n",
       "</div>"
      ],
      "text/plain": [
       "   id keyword location                                               text\n",
       "0   0     NaN      NaN                 Just happened a terrible car crash\n",
       "1   2     NaN      NaN  Heard about #earthquake is different cities, s...\n",
       "2   3     NaN      NaN  there is a forest fire at spot pond, geese are...\n",
       "3   9     NaN      NaN           Apocalypse lighting. #Spokane #wildfires\n",
       "4  11     NaN      NaN      Typhoon Soudelor kills 28 in China and Taiwan\n",
       "5  12     NaN      NaN                 We're shaking...It's an earthquake\n",
       "6  21     NaN      NaN  They'd probably still show more life than Arse...\n",
       "7  22     NaN      NaN                                  Hey! How are you?\n",
       "8  27     NaN      NaN                                   What a nice hat?\n",
       "9  29     NaN      NaN                                          Fuck off!"
      ]
     },
     "execution_count": 147,
     "metadata": {},
     "output_type": "execute_result"
    }
   ],
   "source": [
    "# check contents of train data\n",
    "\n",
    "print(test.shape)\n",
    "test.head(10)"
   ]
  },
  {
   "cell_type": "code",
   "execution_count": null,
   "id": "earned-suite",
   "metadata": {},
   "outputs": [],
   "source": []
  },
  {
   "cell_type": "markdown",
   "id": "signed-vancouver",
   "metadata": {},
   "source": [
    "### Prepare Data"
   ]
  },
  {
   "cell_type": "code",
   "execution_count": 149,
   "id": "material-principal",
   "metadata": {},
   "outputs": [
    {
     "data": {
      "text/plain": [
       "Text(0.5, 1.0, 'Bar Plot of Labels')"
      ]
     },
     "execution_count": 149,
     "metadata": {},
     "output_type": "execute_result"
    },
    {
     "data": {
      "image/png": "[encoded data removed]",
      "text/plain": [
       "<Figure size 432x288 with 1 Axes>"
      ]
     },
     "metadata": {
      "needs_background": "light"
     },
     "output_type": "display_data"
    }
   ],
   "source": [
    "# plot data\n",
    "import matplotlib.pyplot as plt\n",
    "\n",
    "# \n",
    "one = [x for x in train['target'] if x == 1]\n",
    "zero = [y for y in train['target'] if y == 0]\n",
    "\n",
    "heights = [len(one), len(zero)]\n",
    "target = ['1', '0']\n",
    "\n",
    "\n",
    "fig, ax = plt.subplots()\n",
    "ax.bar(target, heights, width=0.25)\n",
    "ax.set_title(\"Bar Plot of Labels\")"
   ]
  },
  {
   "cell_type": "code",
   "execution_count": null,
   "id": "compatible-iraqi",
   "metadata": {},
   "outputs": [],
   "source": []
  },
  {
   "cell_type": "markdown",
   "id": "level-chambers",
   "metadata": {},
   "source": [
    "Get unique keywords to understand the type of disasters contained in the data. "
   ]
  },
  {
   "cell_type": "code",
   "execution_count": 150,
   "id": "dynamic-bradford",
   "metadata": {},
   "outputs": [
    {
     "name": "stdout",
     "output_type": "stream",
     "text": [
      "[nan, 'ablaze', 'accident', 'aftershock', 'airplane%20accident', 'ambulance', 'annihilated', 'annihilation', 'apocalypse', 'armageddon', 'army', 'arson', 'arsonist', 'attack', 'attacked', 'avalanche', 'battle', 'bioterror', 'bioterrorism', 'blaze', 'blazing', 'bleeding', 'blew%20up', 'blight', 'blizzard', 'blood', 'bloody', 'blown%20up', 'body%20bag', 'body%20bagging', 'body%20bags', 'bomb', 'bombed', 'bombing', 'bridge%20collapse', 'buildings%20burning', 'buildings%20on%20fire', 'burned', 'burning', 'burning%20buildings', 'bush%20fires', 'casualties', 'casualty', 'catastrophe', 'catastrophic', 'chemical%20emergency', 'cliff%20fall', 'collapse', 'collapsed', 'collide', 'collided', 'collision', 'crash', 'crashed', 'crush', 'crushed', 'curfew', 'cyclone', 'damage', 'danger', 'dead', 'death', 'deaths', 'debris', 'deluge', 'deluged', 'demolish', 'demolished', 'demolition', 'derail', 'derailed', 'derailment', 'desolate', 'desolation', 'destroy', 'destroyed', 'destruction', 'detonate', 'detonation', 'devastated', 'devastation', 'disaster', 'displaced', 'drought', 'drown', 'drowned', 'drowning', 'dust%20storm', 'earthquake', 'electrocute', 'electrocuted', 'emergency', 'emergency%20plan', 'emergency%20services', 'engulfed', 'epicentre', 'evacuate', 'evacuated', 'evacuation', 'explode', 'exploded', 'explosion', 'eyewitness', 'famine', 'fatal', 'fatalities', 'fatality', 'fear', 'fire', 'fire%20truck', 'first%20responders', 'flames', 'flattened', 'flood', 'flooding', 'floods', 'forest%20fire', 'forest%20fires', 'hail', 'hailstorm', 'harm', 'hazard', 'hazardous', 'heat%20wave', 'hellfire', 'hijack', 'hijacker', 'hijacking', 'hostage', 'hostages', 'hurricane', 'injured', 'injuries', 'injury', 'inundated', 'inundation', 'landslide', 'lava', 'lightning', 'loud%20bang', 'mass%20murder', 'mass%20murderer', 'massacre', 'mayhem', 'meltdown', 'military', 'mudslide', 'natural%20disaster', 'nuclear%20disaster', 'nuclear%20reactor', 'obliterate', 'obliterated', 'obliteration', 'oil%20spill', 'outbreak', 'pandemonium', 'panic', 'panicking', 'police', 'quarantine', 'quarantined', 'radiation%20emergency', 'rainstorm', 'razed', 'refugees', 'rescue', 'rescued', 'rescuers', 'riot', 'rioting', 'rubble', 'ruin', 'sandstorm', 'screamed', 'screaming', 'screams', 'seismic', 'sinkhole', 'sinking', 'siren', 'sirens', 'smoke', 'snowstorm', 'storm', 'stretcher', 'structural%20failure', 'suicide%20bomb', 'suicide%20bomber', 'suicide%20bombing', 'sunk', 'survive', 'survived', 'survivors', 'terrorism', 'terrorist', 'threat', 'thunder', 'thunderstorm', 'tornado', 'tragedy', 'trapped', 'trauma', 'traumatised', 'trouble', 'tsunami', 'twister', 'typhoon', 'upheaval', 'violent%20storm', 'volcano', 'war%20zone', 'weapon', 'weapons', 'whirlwind', 'wild%20fires', 'wildfire', 'windstorm', 'wounded', 'wounds', 'wreck', 'wreckage', 'wrecked']\n"
     ]
    }
   ],
   "source": [
    "# plot keyword\n",
    "\n",
    "# loop through keyword to find unique keywords\n",
    "def keywords(df):\n",
    "    \n",
    "    unique = []\n",
    "    for x in df:\n",
    "        if x not in unique:\n",
    "            unique.append(x)\n",
    "    return unique\n",
    "\n",
    "unique_keywords = keywords(train['keyword']) \n",
    "print(unique_keywords)"
   ]
  },
  {
   "cell_type": "code",
   "execution_count": 154,
   "id": "eleven-namibia",
   "metadata": {},
   "outputs": [
    {
     "data": {
      "image/png": "[encoded data removed]",
      "text/plain": [
       "<Figure size 432x288 with 1 Axes>"
      ]
     },
     "metadata": {
      "needs_background": "light"
     },
     "output_type": "display_data"
    },
    {
     "data": {
      "image/png": "[encoded data removed]",
      "text/plain": [
       "<Figure size 432x288 with 1 Axes>"
      ]
     },
     "metadata": {
      "needs_background": "light"
     },
     "output_type": "display_data"
    }
   ],
   "source": [
    "# plot some keywords\n",
    "\n",
    "def counts(keyword):\n",
    "    content = []\n",
    "    \n",
    "    for x in keyword:\n",
    "        x = len(x)\n",
    "        content.append(x)\n",
    "        \n",
    "    return content\n",
    "\n",
    "def bar_plots(df, unique):\n",
    "    \n",
    "    heights = []\n",
    "    \n",
    "    for y in unique:\n",
    "        container = []\n",
    "        for x in df['keyword']: \n",
    "            if x == y:\n",
    "                container.append(y)\n",
    "        heights.append(container) \n",
    "        \n",
    "    count = counts(heights)\n",
    "        \n",
    "    fig, ax = plt.subplots()\n",
    "    ax.bar(unique, count, width=0.25)\n",
    "    ax.set_title(\"Bar Plot of Unique keywords\")\n",
    "    ax.set_xlabel(\"Keywords\")\n",
    "    ax.set_ylabel(\"Counts\")\n",
    "               \n",
    "bar_plots(train, ['refugees', 'wildfire', 'flood', 'wreckage'])\n",
    "bar_plots(train, ['sandstorm', 'massacre', 'emergency', 'earthquake', 'accident', 'massacre'])"
   ]
  },
  {
   "cell_type": "code",
   "execution_count": null,
   "id": "operational-amplifier",
   "metadata": {},
   "outputs": [],
   "source": []
  },
  {
   "cell_type": "code",
   "execution_count": 155,
   "id": "victorian-migration",
   "metadata": {},
   "outputs": [
    {
     "data": {
      "text/plain": [
       "([True, True, True, True, True], [False, False, True, True, False])"
      ]
     },
     "execution_count": 155,
     "metadata": {},
     "output_type": "execute_result"
    }
   ],
   "source": [
    "# Clean data, check and remove empty records\n",
    "\n",
    "def empty_null_check(df, indexes):\n",
    "    \n",
    "    empty = []\n",
    "    isnull = []\n",
    "    \n",
    "    for y in indexes:\n",
    "        if df[df[y] == ''].index is not []:\n",
    "            empty.append(True)\n",
    "        if True in list(pd.isna(df[y])):\n",
    "            isnull.append(True)\n",
    "        else: \n",
    "            isnull.append(False)\n",
    "            \n",
    "    return empty, isnull\n",
    "\n",
    "empty_null_check(train, ['id', 'target', 'location', 'keyword', 'text'])"
   ]
  },
  {
   "cell_type": "code",
   "execution_count": 156,
   "id": "electric-counter",
   "metadata": {},
   "outputs": [
    {
     "name": "stdout",
     "output_type": "stream",
     "text": [
      "2533\n",
      "61\n"
     ]
    }
   ],
   "source": [
    "# Decide if null values will be removed\n",
    "\n",
    "null_vals_location = []\n",
    "null_vals_keyword = []\n",
    "\n",
    "for x in range(0, len(train)):\n",
    "    if pd.isnull(train.loc[x, 'location']):\n",
    "        null_vals_location.append(True)\n",
    "    if pd.isnull(train.loc[x, 'keyword']):\n",
    "        null_vals_keyword.append(True)\n",
    "\n",
    "print(len(null_vals_location))\n",
    "print(len(null_vals_keyword))"
   ]
  },
  {
   "cell_type": "markdown",
   "id": "duplicate-surprise",
   "metadata": {},
   "source": [
    "Since the location contains large number of null values, decided to not remove the rows containing null values. They do not affect the text and target and they will not be used for the modelling. They can only be used if one wants to predict a particular kind of emergency (keyword) in a particular location"
   ]
  },
  {
   "cell_type": "code",
   "execution_count": 157,
   "id": "iraqi-compact",
   "metadata": {},
   "outputs": [
    {
     "data": {
      "text/html": [
       "<div>\n",
       "<style scoped>\n",
       "    .dataframe tbody tr th:only-of-type {\n",
       "        vertical-align: middle;\n",
       "    }\n",
       "\n",
       "    .dataframe tbody tr th {\n",
       "        vertical-align: top;\n",
       "    }\n",
       "\n",
       "    .dataframe thead th {\n",
       "        text-align: right;\n",
       "    }\n",
       "</style>\n",
       "<table border=\"1\" class=\"dataframe\">\n",
       "  <thead>\n",
       "    <tr style=\"text-align: right;\">\n",
       "      <th></th>\n",
       "      <th>text</th>\n",
       "      <th>target</th>\n",
       "    </tr>\n",
       "  </thead>\n",
       "  <tbody>\n",
       "    <tr>\n",
       "      <th>0</th>\n",
       "      <td>Our Deeds are the Reason of this #earthquake M...</td>\n",
       "      <td>1</td>\n",
       "    </tr>\n",
       "    <tr>\n",
       "      <th>1</th>\n",
       "      <td>Forest fire near La Ronge Sask. Canada</td>\n",
       "      <td>1</td>\n",
       "    </tr>\n",
       "    <tr>\n",
       "      <th>2</th>\n",
       "      <td>All residents asked to 'shelter in place' are ...</td>\n",
       "      <td>1</td>\n",
       "    </tr>\n",
       "    <tr>\n",
       "      <th>3</th>\n",
       "      <td>13,000 people receive #wildfires evacuation or...</td>\n",
       "      <td>1</td>\n",
       "    </tr>\n",
       "    <tr>\n",
       "      <th>4</th>\n",
       "      <td>Just got sent this photo from Ruby #Alaska as ...</td>\n",
       "      <td>1</td>\n",
       "    </tr>\n",
       "    <tr>\n",
       "      <th>5</th>\n",
       "      <td>#RockyFire Update =&gt; California Hwy. 20 closed...</td>\n",
       "      <td>1</td>\n",
       "    </tr>\n",
       "    <tr>\n",
       "      <th>6</th>\n",
       "      <td>#flood #disaster Heavy rain causes flash flood...</td>\n",
       "      <td>1</td>\n",
       "    </tr>\n",
       "    <tr>\n",
       "      <th>7</th>\n",
       "      <td>I'm on top of the hill and I can see a fire in...</td>\n",
       "      <td>1</td>\n",
       "    </tr>\n",
       "    <tr>\n",
       "      <th>8</th>\n",
       "      <td>There's an emergency evacuation happening now ...</td>\n",
       "      <td>1</td>\n",
       "    </tr>\n",
       "    <tr>\n",
       "      <th>9</th>\n",
       "      <td>I'm afraid that the tornado is coming to our a...</td>\n",
       "      <td>1</td>\n",
       "    </tr>\n",
       "  </tbody>\n",
       "</table>\n",
       "</div>"
      ],
      "text/plain": [
       "                                                text  target\n",
       "0  Our Deeds are the Reason of this #earthquake M...       1\n",
       "1             Forest fire near La Ronge Sask. Canada       1\n",
       "2  All residents asked to 'shelter in place' are ...       1\n",
       "3  13,000 people receive #wildfires evacuation or...       1\n",
       "4  Just got sent this photo from Ruby #Alaska as ...       1\n",
       "5  #RockyFire Update => California Hwy. 20 closed...       1\n",
       "6  #flood #disaster Heavy rain causes flash flood...       1\n",
       "7  I'm on top of the hill and I can see a fire in...       1\n",
       "8  There's an emergency evacuation happening now ...       1\n",
       "9  I'm afraid that the tornado is coming to our a...       1"
      ]
     },
     "execution_count": 157,
     "metadata": {},
     "output_type": "execute_result"
    }
   ],
   "source": [
    "# Drop id, keyword and location columns\n",
    "\n",
    "df = train.drop(columns=['id', 'keyword', 'location'], axis=0)\n",
    "df.head(10)"
   ]
  },
  {
   "cell_type": "markdown",
   "id": "authentic-vaccine",
   "metadata": {},
   "source": [
    "### Cleaning of data"
   ]
  },
  {
   "cell_type": "code",
   "execution_count": 158,
   "id": "frank-extension",
   "metadata": {},
   "outputs": [],
   "source": [
    "X_train = df['text']\n",
    "y = df['target']"
   ]
  },
  {
   "cell_type": "code",
   "execution_count": 159,
   "id": "leading-utilization",
   "metadata": {},
   "outputs": [],
   "source": [
    "# for competition test set\n",
    "\n",
    "X_test = test.drop(columns=['id','keyword', 'location'])\n",
    "X_test = X_test['text']"
   ]
  },
  {
   "cell_type": "markdown",
   "id": "respiratory-assault",
   "metadata": {},
   "source": []
  },
  {
   "cell_type": "code",
   "execution_count": 160,
   "id": "progressive-assets",
   "metadata": {},
   "outputs": [
    {
     "name": "stderr",
     "output_type": "stream",
     "text": [
      "[nltk_data] Downloading package stopwords to\n",
      "[nltk_data]     /home/ec2-user/nltk_data...\n",
      "[nltk_data]   Package stopwords is already up-to-date!\n"
     ]
    }
   ],
   "source": [
    "# import libraries for cleaning  and processing tweets text \n",
    "import nltk\n",
    "import re\n",
    "from nltk.corpus import stopwords\n",
    "from nltk.stem.porter import *\n",
    "from bs4 import BeautifulSoup\n",
    "nltk.download(\"stopwords\")\n",
    "stemmer = PorterStemmer()\n",
    "\n",
    "# clean, process and tokenize words in texts\n",
    "def texts_to_words(tweet):\n",
    "\n",
    "    # for each tweet, remove HTML tags if present\n",
    "    tweet_text = BeautifulSoup(tweet, \"html.parser\").get_text()\n",
    "    \n",
    "    # convert to texts lowercase and remove urls\n",
    "    tweet_text = re.sub(r\"http\\S+\", \" \", tweet.lower())\n",
    "    \n",
    "    tweet_text = re.sub(r\"[^a-zA-Z0-9]\", \" \", tweet_text.lower())\n",
    "      \n",
    "    words = tweet_text.split()\n",
    "    # if word is a stopword, remove\n",
    "    words = [word for word in words if word not in stopwords.words(\"english\")]\n",
    "    # stem the words\n",
    "    words = [PorterStemmer().stem(word) for word in words]\n",
    "    # remove word less than 3 letters\n",
    "    words = [word for word in words if len(word) > 3] \n",
    "    \n",
    "    \n",
    "    return words"
   ]
  },
  {
   "cell_type": "code",
   "execution_count": 161,
   "id": "fundamental-brunei",
   "metadata": {},
   "outputs": [
    {
     "data": {
      "text/plain": [
       "['bekah', 'thank', 'sweat', 'bullet', 'everi', 'time', 'blaze', 'beat']"
      ]
     },
     "execution_count": 161,
     "metadata": {},
     "output_type": "execute_result"
    }
   ],
   "source": [
    "# sample\n",
    "texts_to_words(X_train[700])"
   ]
  },
  {
   "cell_type": "code",
   "execution_count": 164,
   "id": "false-expense",
   "metadata": {},
   "outputs": [],
   "source": [
    "# apply texts_to_words function above to train and validation sets, save in cache\n",
    "import pickle\n",
    "import os\n",
    "\n",
    "# create the cache directory\n",
    "cache_dir = os.path.join('../cache', \"capstone_project\" )\n",
    "\n",
    "# ensure it exists\n",
    "os.makedirs(cache_dir, exist_ok=True)"
   ]
  },
  {
   "cell_type": "code",
   "execution_count": 165,
   "id": "african-zambia",
   "metadata": {},
   "outputs": [],
   "source": [
    "# use the texts_to_words and process text, save in cache directory\n",
    "\n",
    "def process_texts(train_text, test_text, train_label,\n",
    "                  cache_dir=cache_dir, cache_file=\"preprocessed_data.pkl\"):\n",
    "    \n",
    "    cache_data = None\n",
    "    # check if cache file is None by reading it \n",
    "    if cache_file is not None:\n",
    "        try:\n",
    "            with open(os.path.join(cach_dir, cache_file), \"rb\") as f:\n",
    "                cache_data = pickle.load(f)\n",
    "            print(\"Read processed data from cache\", cache_file)\n",
    "        except:\n",
    "            pass\n",
    "    \n",
    "    \n",
    "    if cache_data is None:\n",
    "             \n",
    "            # process each text in train, test and validation sets.\n",
    "        \n",
    "            train_words = [texts_to_words(text) for text in train_text]\n",
    "            test_words = [texts_to_words(text) for text in test_text]\n",
    "            \n",
    "            # if cache file is not write the processed data into it\n",
    "            \n",
    "            if cache_file is not None:\n",
    "                cache_data = dict(train_words=train_words, test_words=test_words,\n",
    "                                 train_label=train_label)\n",
    "                with open(os.path.join(cache_dir, cache_file), \"wb\") as f:\n",
    "                    pickle.dump(cache_data, f)\n",
    "                print(\"Wrote processed data to cache\", cache_file)\n",
    "                    \n",
    "    else:\n",
    "        train_words, test_words, train_label = (cache_data['train_words'],\n",
    "                                        cache_data['test_words'], cache_data['train_label'])    \n",
    "                \n",
    "    \n",
    "    return train_words, test_words, train_label"
   ]
  },
  {
   "cell_type": "code",
   "execution_count": 166,
   "id": "loaded-haiti",
   "metadata": {},
   "outputs": [
    {
     "name": "stdout",
     "output_type": "stream",
     "text": [
      "Wrote processed data to cache preprocessed_data.pkl\n"
     ]
    }
   ],
   "source": [
    "X_train, X_test, y_tr = process_texts(X_train, X_test, y)"
   ]
  },
  {
   "cell_type": "code",
   "execution_count": 167,
   "id": "laughing-beaver",
   "metadata": {},
   "outputs": [
    {
     "data": {
      "text/plain": [
       "['deputi', 'shot', 'brighton', 'home', 'ablaz']"
      ]
     },
     "execution_count": 167,
     "metadata": {},
     "output_type": "execute_result"
    }
   ],
   "source": [
    "X_train[50]"
   ]
  },
  {
   "cell_type": "code",
   "execution_count": 168,
   "id": "continuous-separation",
   "metadata": {},
   "outputs": [
    {
     "data": {
      "text/plain": [
       "['demolish', 'palestinian', 'villag', 'come', 'back', 'life', 'wagingnv']"
      ]
     },
     "execution_count": 168,
     "metadata": {},
     "output_type": "execute_result"
    }
   ],
   "source": [
    "X_test[1000]"
   ]
  },
  {
   "cell_type": "markdown",
   "id": "meaningful-boxing",
   "metadata": {},
   "source": [
    "### Bag of Words Extraction"
   ]
  },
  {
   "cell_type": "code",
   "execution_count": 170,
   "id": "focal-secondary",
   "metadata": {},
   "outputs": [],
   "source": [
    "# Extract meaning by using tfidf vectorizer\n",
    "import numpy as np\n",
    "import joblib\n",
    "from sklearn.feature_extraction.text import TfidfVectorizer\n",
    "\n",
    "\n",
    "def extract_words_features(train_words, test_words,vocabulary_size=5000):\n",
    "        \n",
    "    vectorizer = TfidfVectorizer(max_features=vocabulary_size,\n",
    "                preprocessor=lambda x: x, tokenizer=lambda x: x)\n",
    "\n",
    "    train_features = vectorizer.fit_transform(train_words).toarray()\n",
    "    test_features = vectorizer.transform(test_words).toarray()\n",
    "    \n",
    "    # get vocabulary in both train and test sets\n",
    "    vocabulary = vectorizer.vocabulary_\n",
    "\n",
    "            \n",
    "    return vocabulary"
   ]
  },
  {
   "cell_type": "code",
   "execution_count": 171,
   "id": "sunrise-radius",
   "metadata": {},
   "outputs": [],
   "source": [
    "vocabulary = extract_words_features(X_train, X_test)"
   ]
  },
  {
   "cell_type": "code",
   "execution_count": 172,
   "id": "handled-regression",
   "metadata": {},
   "outputs": [],
   "source": [
    "# prepare data for uploading to s3\n",
    "capstone_data_dir = \"../data/capstone\"\n",
    "\n",
    "if not os.path.exists(capstone_data_dir):\n",
    "    os.makedirs(capstone_data_dir)\n",
    "\n",
    "with open(os.path.join(capstone_data_dir, 'vocabulary_dict.pkl'), \"wb\") as f:\n",
    "    pickle.dump(vocabulary, f)"
   ]
  },
  {
   "cell_type": "markdown",
   "id": "focused-shore",
   "metadata": {},
   "source": [
    "Change and pad each sentence in the texts to get the length or number of words and count of words (occurance in created dictionary) in the text from the vocabulary dictionary."
   ]
  },
  {
   "cell_type": "code",
   "execution_count": 173,
   "id": "furnished-notification",
   "metadata": {},
   "outputs": [],
   "source": [
    "def convert_and_pad(vocabulary_dict, sentence, pad=100):\n",
    "    NOWORD = 0 # used to represent no word category\n",
    "    INFREQ = 1 # used 1 to represent the infrequent words, i.e., words not appearing in word_dict\n",
    "    \n",
    "    working_sentence = [NOWORD] * pad\n",
    "    \n",
    "    for word_index, word in enumerate(sentence[:pad]):\n",
    "        if word in vocabulary_dict:\n",
    "            working_sentence[word_index] = vocabulary_dict[word]\n",
    "        else:\n",
    "            working_sentence[word_index] = INFREQ\n",
    "            \n",
    "    return working_sentence, min(len(sentence), pad)\n",
    "\n",
    "def convert_and_pad_data(vocabulary_dict, data, pad=100):\n",
    "    result = []\n",
    "    lengths = []\n",
    "    \n",
    "    for sentence in data:\n",
    "        converted, leng = convert_and_pad(vocabulary_dict, sentence, pad)\n",
    "        result.append(converted)\n",
    "        lengths.append(leng)\n",
    "        \n",
    "    return np.array(result), np.array(lengths)"
   ]
  },
  {
   "cell_type": "code",
   "execution_count": 174,
   "id": "everyday-peninsula",
   "metadata": {},
   "outputs": [],
   "source": [
    "train_X, train_X_len = convert_and_pad_data(vocabulary, X_train)\n",
    "test_X, test_X_len = convert_and_pad_data(vocabulary, X_test)"
   ]
  },
  {
   "cell_type": "code",
   "execution_count": 175,
   "id": "rough-flavor",
   "metadata": {},
   "outputs": [
    {
     "data": {
      "text/plain": [
       "array([3128, 1264, 4275,  516, 2564, 4230,    1,    0,    0,    0,    0,\n",
       "          0,    0,    0,    0,    0,    0,    0,    0,    0,    0,    0,\n",
       "          0,    0,    0,    0,    0,    0,    0,    0,    0,    0,    0,\n",
       "          0,    0,    0,    0,    0,    0,    0,    0,    0,    0,    0,\n",
       "          0,    0,    0,    0,    0,    0,    0,    0,    0,    0,    0,\n",
       "          0,    0,    0,    0,    0,    0,    0,    0,    0,    0,    0,\n",
       "          0,    0,    0,    0,    0,    0,    0,    0,    0,    0,    0,\n",
       "          0,    0,    0,    0,    0,    0,    0,    0,    0,    0,    0,\n",
       "          0,    0,    0,    0,    0,    0,    0,    0,    0,    0,    0,\n",
       "          0])"
      ]
     },
     "execution_count": 175,
     "metadata": {},
     "output_type": "execute_result"
    }
   ],
   "source": [
    "train_X[1000]"
   ]
  },
  {
   "cell_type": "code",
   "execution_count": 176,
   "id": "catholic-psychology",
   "metadata": {},
   "outputs": [
    {
     "data": {
      "text/plain": [
       "array([1953, 2516,   70,  209,  303,  521, 4933, 2782,    0,    0,    0,\n",
       "          0,    0,    0,    0,    0,    0,    0,    0,    0,    0,    0,\n",
       "          0,    0,    0,    0,    0,    0,    0,    0,    0,    0,    0,\n",
       "          0,    0,    0,    0,    0,    0,    0,    0,    0,    0,    0,\n",
       "          0,    0,    0,    0,    0,    0,    0,    0,    0,    0,    0,\n",
       "          0,    0,    0,    0,    0,    0,    0,    0,    0,    0,    0,\n",
       "          0,    0,    0,    0,    0,    0,    0,    0,    0,    0,    0,\n",
       "          0,    0,    0,    0,    0,    0,    0,    0,    0,    0,    0,\n",
       "          0,    0,    0,    0,    0,    0,    0,    0,    0,    0,    0,\n",
       "          0])"
      ]
     },
     "execution_count": 176,
     "metadata": {},
     "output_type": "execute_result"
    }
   ],
   "source": [
    "test_X[500]"
   ]
  },
  {
   "cell_type": "markdown",
   "id": "indirect-excuse",
   "metadata": {},
   "source": [
    "Define and slit the data sets"
   ]
  },
  {
   "cell_type": "code",
   "execution_count": 177,
   "id": "quick-norfolk",
   "metadata": {},
   "outputs": [],
   "source": [
    "y = pd.DataFrame(y_tr)\n",
    "X = pd.DataFrame(train_X)\n",
    "X_train_len = pd.DataFrame(train_X_len)\n",
    "X_test = pd.DataFrame(test_X)"
   ]
  },
  {
   "cell_type": "code",
   "execution_count": 178,
   "id": "continent-saskatchewan",
   "metadata": {},
   "outputs": [],
   "source": [
    "# split data to train and validation sets\n",
    "X_train = pd.DataFrame(X[1000:])\n",
    "X_len = pd.DataFrame(X_train_len[1000:])\n",
    "\n",
    "y_val= pd.DataFrame(y[:1000])\n",
    "\n",
    "y_train = pd.DataFrame(y[1000:])\n",
    "X_val = pd.DataFrame(X[:1000])\n",
    "X_val_len = pd.DataFrame(X_train_len[:1000])"
   ]
  },
  {
   "cell_type": "code",
   "execution_count": null,
   "id": "textile-smoke",
   "metadata": {},
   "outputs": [],
   "source": []
  },
  {
   "cell_type": "code",
   "execution_count": 179,
   "id": "quarterly-tract",
   "metadata": {},
   "outputs": [],
   "source": [
    "# concat the training set and send to capstone data directory\n",
    "\n",
    "pd.concat([y_train, X_len, X_train], axis=1).to_csv(os.path.join(capstone_data_dir, 'training.csv'), header=False, index=False)"
   ]
  },
  {
   "cell_type": "code",
   "execution_count": 180,
   "id": "empirical-dominican",
   "metadata": {},
   "outputs": [],
   "source": [
    "# get the sagemaker session\n",
    "session = sagemaker.Session()\n",
    "role = sagemaker.get_execution_role()\n",
    "prefix=\"capstone_project\"\n",
    "\n",
    "bucket = sagemaker.Session().default_bucket()\n",
    "output_path = 's3://{}/{}/output'.format(bucket, prefix)"
   ]
  },
  {
   "cell_type": "markdown",
   "id": "great-japanese",
   "metadata": {},
   "source": [
    "### Modelling\n",
    "\n",
    "This stage, I uploaded the input data to s3 bucket, then created a PyTorch estimator which accepts parameters such as entry point, and output path. The entry point is where the classifier model is invoked, the parameters are added and the data is converted and loaded for the training. Afterwards, the model estimator is fitted with the input data and trained."
   ]
  },
  {
   "cell_type": "code",
   "execution_count": 181,
   "id": "leading-degree",
   "metadata": {},
   "outputs": [],
   "source": [
    "# upload directory to s3\n",
    "\n",
    "input_data = session.upload_data(capstone_data_dir, bucket=bucket, key_prefix=prefix)"
   ]
  },
  {
   "cell_type": "code",
   "execution_count": 196,
   "id": "conscious-butler",
   "metadata": {},
   "outputs": [
    {
     "name": "stderr",
     "output_type": "stream",
     "text": [
      "train_instance_count has been renamed in sagemaker>=2.\n",
      "See: https://sagemaker.readthedocs.io/en/stable/v2.html for details.\n",
      "train_instance_type has been renamed in sagemaker>=2.\n",
      "See: https://sagemaker.readthedocs.io/en/stable/v2.html for details.\n"
     ]
    }
   ],
   "source": [
    "from sagemaker.pytorch import PyTorch\n",
    "\n",
    "estimator = PyTorch(entry_point='train.py',\n",
    "                    source_dir=\"train\",\n",
    "                   role=role,\n",
    "                   output_path=output_path,\n",
    "                   framework_version='1.0',\n",
    "                   train_instance_count=1,\n",
    "                   py_version='py3',\n",
    "                   train_instance_type='ml.c4.xlarge',\n",
    "                   sagemaker_session=session,\n",
    "                   hyperparameters={\n",
    "                       'hidden_dim': 128,\n",
    "                       'embedding_dim': 64,\n",
    "                       'epochs': 50\n",
    "                   })"
   ]
  },
  {
   "cell_type": "code",
   "execution_count": 197,
   "id": "quantitative-steam",
   "metadata": {},
   "outputs": [
    {
     "name": "stdout",
     "output_type": "stream",
     "text": [
      "2021-04-02 10:54:20 Starting - Starting the training job...\n",
      "2021-04-02 10:54:22 Starting - Launching requested ML instancesProfilerReport-1617360860: InProgress\n",
      "......\n",
      "2021-04-02 10:55:47 Starting - Preparing the instances for training......\n",
      "2021-04-02 10:56:47 Downloading - Downloading input data\n",
      "2021-04-02 10:56:47 Training - Downloading the training image..\u001b[34mbash: cannot set terminal process group (-1): Inappropriate ioctl for device\u001b[0m\n",
      "\u001b[34mbash: no job control in this shell\u001b[0m\n",
      "\u001b[34m2021-04-02 10:57:01,632 sagemaker-containers INFO     Imported framework sagemaker_pytorch_container.training\u001b[0m\n",
      "\u001b[34m2021-04-02 10:57:01,635 sagemaker-containers INFO     No GPUs detected (normal if no gpus installed)\u001b[0m\n",
      "\u001b[34m2021-04-02 10:57:01,648 sagemaker_pytorch_container.training INFO     Block until all host DNS lookups succeed.\u001b[0m\n",
      "\u001b[34m2021-04-02 10:57:01,649 sagemaker_pytorch_container.training INFO     Invoking user training script.\u001b[0m\n",
      "\u001b[34m2021-04-02 10:57:02,130 sagemaker-containers INFO     Module train does not provide a setup.py. \u001b[0m\n",
      "\u001b[34mGenerating setup.py\u001b[0m\n",
      "\u001b[34m2021-04-02 10:57:02,130 sagemaker-containers INFO     Generating setup.cfg\u001b[0m\n",
      "\u001b[34m2021-04-02 10:57:02,130 sagemaker-containers INFO     Generating MANIFEST.in\u001b[0m\n",
      "\u001b[34m2021-04-02 10:57:02,130 sagemaker-containers INFO     Installing module with the following command:\u001b[0m\n",
      "\u001b[34m/usr/bin/python -m pip install -U . \u001b[0m\n",
      "\u001b[34mProcessing /opt/ml/code\u001b[0m\n",
      "\u001b[34mBuilding wheels for collected packages: train\n",
      "  Running setup.py bdist_wheel for train: started\n",
      "  Running setup.py bdist_wheel for train: finished with status 'done'\n",
      "  Stored in directory: /tmp/pip-ephem-wheel-cache-3qw7q9tz/wheels/35/24/16/37574d11bf9bde50616c67372a334f94fa8356bc7164af8ca3\u001b[0m\n",
      "\u001b[34mSuccessfully built train\u001b[0m\n",
      "\u001b[34mInstalling collected packages: train\u001b[0m\n",
      "\u001b[34mSuccessfully installed train-1.0.0\u001b[0m\n",
      "\u001b[34mYou are using pip version 18.1, however version 21.0.1 is available.\u001b[0m\n",
      "\u001b[34mYou should consider upgrading via the 'pip install --upgrade pip' command.\u001b[0m\n",
      "\u001b[34m2021-04-02 10:57:04,043 sagemaker-containers INFO     No GPUs detected (normal if no gpus installed)\u001b[0m\n",
      "\u001b[34m2021-04-02 10:57:04,055 sagemaker-containers INFO     Invoking user script\n",
      "\u001b[0m\n",
      "\u001b[34mTraining Env:\n",
      "\u001b[0m\n",
      "\u001b[34m{\n",
      "    \"additional_framework_parameters\": {},\n",
      "    \"channel_input_dirs\": {\n",
      "        \"training\": \"/opt/ml/input/data/training\"\n",
      "    },\n",
      "    \"current_host\": \"algo-1\",\n",
      "    \"framework_module\": \"sagemaker_pytorch_container.training:main\",\n",
      "    \"hosts\": [\n",
      "        \"algo-1\"\n",
      "    ],\n",
      "    \"hyperparameters\": {\n",
      "        \"hidden_dim\": 128,\n",
      "        \"embedding_dim\": 64,\n",
      "        \"epochs\": 50\n",
      "    },\n",
      "    \"input_config_dir\": \"/opt/ml/input/config\",\n",
      "    \"input_data_config\": {\n",
      "        \"training\": {\n",
      "            \"TrainingInputMode\": \"File\",\n",
      "            \"S3DistributionType\": \"FullyReplicated\",\n",
      "            \"RecordWrapperType\": \"None\"\n",
      "        }\n",
      "    },\n",
      "    \"input_dir\": \"/opt/ml/input\",\n",
      "    \"is_master\": true,\n",
      "    \"job_name\": \"sagemaker-pytorch-2021-04-02-10-54-20-372\",\n",
      "    \"log_level\": 20,\n",
      "    \"master_hostname\": \"algo-1\",\n",
      "    \"model_dir\": \"/opt/ml/model\",\n",
      "    \"module_dir\": \"s3://sagemaker-us-east-1-163093570674/sagemaker-pytorch-2021-04-02-10-54-20-372/source/sourcedir.tar.gz\",\n",
      "    \"module_name\": \"train\",\n",
      "    \"network_interface_name\": \"eth0\",\n",
      "    \"num_cpus\": 4,\n",
      "    \"num_gpus\": 0,\n",
      "    \"output_data_dir\": \"/opt/ml/output/data\",\n",
      "    \"output_dir\": \"/opt/ml/output\",\n",
      "    \"output_intermediate_dir\": \"/opt/ml/output/intermediate\",\n",
      "    \"resource_config\": {\n",
      "        \"current_host\": \"algo-1\",\n",
      "        \"hosts\": [\n",
      "            \"algo-1\"\n",
      "        ],\n",
      "        \"network_interface_name\": \"eth0\"\n",
      "    },\n",
      "    \"user_entry_point\": \"train.py\"\u001b[0m\n",
      "\u001b[34m}\n",
      "\u001b[0m\n",
      "\u001b[34mEnvironment variables:\n",
      "\u001b[0m\n",
      "\u001b[34mSM_HOSTS=[\"algo-1\"]\u001b[0m\n",
      "\u001b[34mSM_NETWORK_INTERFACE_NAME=eth0\u001b[0m\n",
      "\u001b[34mSM_HPS={\"embedding_dim\":64,\"epochs\":50,\"hidden_dim\":128}\u001b[0m\n",
      "\u001b[34mSM_USER_ENTRY_POINT=train.py\u001b[0m\n",
      "\u001b[34mSM_FRAMEWORK_PARAMS={}\u001b[0m\n",
      "\u001b[34mSM_RESOURCE_CONFIG={\"current_host\":\"algo-1\",\"hosts\":[\"algo-1\"],\"network_interface_name\":\"eth0\"}\u001b[0m\n",
      "\u001b[34mSM_INPUT_DATA_CONFIG={\"training\":{\"RecordWrapperType\":\"None\",\"S3DistributionType\":\"FullyReplicated\",\"TrainingInputMode\":\"File\"}}\u001b[0m\n",
      "\u001b[34mSM_OUTPUT_DATA_DIR=/opt/ml/output/data\u001b[0m\n",
      "\u001b[34mSM_CHANNELS=[\"training\"]\u001b[0m\n",
      "\u001b[34mSM_CURRENT_HOST=algo-1\u001b[0m\n",
      "\u001b[34mSM_MODULE_NAME=train\u001b[0m\n",
      "\u001b[34mSM_LOG_LEVEL=20\u001b[0m\n",
      "\u001b[34mSM_FRAMEWORK_MODULE=sagemaker_pytorch_container.training:main\u001b[0m\n",
      "\u001b[34mSM_INPUT_DIR=/opt/ml/input\u001b[0m\n",
      "\u001b[34mSM_INPUT_CONFIG_DIR=/opt/ml/input/config\u001b[0m\n",
      "\u001b[34mSM_OUTPUT_DIR=/opt/ml/output\u001b[0m\n",
      "\u001b[34mSM_NUM_CPUS=4\u001b[0m\n",
      "\u001b[34mSM_NUM_GPUS=0\u001b[0m\n",
      "\u001b[34mSM_MODEL_DIR=/opt/ml/model\u001b[0m\n",
      "\u001b[34mSM_MODULE_DIR=s3://sagemaker-us-east-1-163093570674/sagemaker-pytorch-2021-04-02-10-54-20-372/source/sourcedir.tar.gz\u001b[0m\n",
      "\u001b[34mSM_TRAINING_ENV={\"additional_framework_parameters\":{},\"channel_input_dirs\":{\"training\":\"/opt/ml/input/data/training\"},\"current_host\":\"algo-1\",\"framework_module\":\"sagemaker_pytorch_container.training:main\",\"hosts\":[\"algo-1\"],\"hyperparameters\":{\"embedding_dim\":64,\"epochs\":50,\"hidden_dim\":128},\"input_config_dir\":\"/opt/ml/input/config\",\"input_data_config\":{\"training\":{\"RecordWrapperType\":\"None\",\"S3DistributionType\":\"FullyReplicated\",\"TrainingInputMode\":\"File\"}},\"input_dir\":\"/opt/ml/input\",\"is_master\":true,\"job_name\":\"sagemaker-pytorch-2021-04-02-10-54-20-372\",\"log_level\":20,\"master_hostname\":\"algo-1\",\"model_dir\":\"/opt/ml/model\",\"module_dir\":\"s3://sagemaker-us-east-1-163093570674/sagemaker-pytorch-2021-04-02-10-54-20-372/source/sourcedir.tar.gz\",\"module_name\":\"train\",\"network_interface_name\":\"eth0\",\"num_cpus\":4,\"num_gpus\":0,\"output_data_dir\":\"/opt/ml/output/data\",\"output_dir\":\"/opt/ml/output\",\"output_intermediate_dir\":\"/opt/ml/output/intermediate\",\"resource_config\":{\"current_host\":\"algo-1\",\"hosts\":[\"algo-1\"],\"network_interface_name\":\"eth0\"},\"user_entry_point\":\"train.py\"}\u001b[0m\n",
      "\u001b[34mSM_USER_ARGS=[\"--embedding_dim\",\"64\",\"--epochs\",\"50\",\"--hidden_dim\",\"128\"]\u001b[0m\n",
      "\u001b[34mSM_OUTPUT_INTERMEDIATE_DIR=/opt/ml/output/intermediate\u001b[0m\n",
      "\u001b[34mSM_CHANNEL_TRAINING=/opt/ml/input/data/training\u001b[0m\n",
      "\u001b[34mSM_HP_HIDDEN_DIM=128\u001b[0m\n",
      "\u001b[34mSM_HP_EMBEDDING_DIM=64\u001b[0m\n",
      "\u001b[34mSM_HP_EPOCHS=50\u001b[0m\n",
      "\u001b[34mPYTHONPATH=/usr/local/bin:/usr/lib/python36.zip:/usr/lib/python3.6:/usr/lib/python3.6/lib-dynload:/usr/local/lib/python3.6/dist-packages:/usr/lib/python3/dist-packages\n",
      "\u001b[0m\n",
      "\u001b[34mInvoking script with the following command:\n",
      "\u001b[0m\n",
      "\u001b[34m/usr/bin/python -m train --embedding_dim 64 --epochs 50 --hidden_dim 128\n",
      "\n",
      "\u001b[0m\n",
      "\u001b[34mUsing device cpu.\u001b[0m\n",
      "\u001b[34mModel loaded with embedding_dim 64, hidden_dim 128, vocab_size 5000.\u001b[0m\n",
      "\n",
      "2021-04-02 10:57:07 Training - Training image download completed. Training in progress.\u001b[34mEpoch: 1, BCELoss: 0.6933448039568387\u001b[0m\n",
      "\u001b[34mEpoch: 2, BCELoss: 0.6899171196497403\u001b[0m\n",
      "\u001b[34mEpoch: 3, BCELoss: 0.688505965929765\u001b[0m\n",
      "\u001b[34mEpoch: 4, BCELoss: 0.6872163506654593\u001b[0m\n",
      "\u001b[34mEpoch: 5, BCELoss: 0.6841258590038006\u001b[0m\n",
      "\u001b[34mEpoch: 6, BCELoss: 0.6802558807226328\u001b[0m\n",
      "\u001b[34mEpoch: 7, BCELoss: 0.6778864860534668\u001b[0m\n",
      "\u001b[34mEpoch: 8, BCELoss: 0.6750541971280024\u001b[0m\n",
      "\u001b[34mEpoch: 9, BCELoss: 0.6727813573984\u001b[0m\n",
      "\u001b[34mEpoch: 10, BCELoss: 0.6688005557427039\u001b[0m\n",
      "\u001b[34mEpoch: 11, BCELoss: 0.6624078017014724\u001b[0m\n",
      "\u001b[34mEpoch: 12, BCELoss: 0.6656206066791828\u001b[0m\n",
      "\u001b[34mEpoch: 13, BCELoss: 0.6564154120591971\u001b[0m\n",
      "\u001b[34mEpoch: 14, BCELoss: 0.6415396149341877\u001b[0m\n",
      "\u001b[34mEpoch: 15, BCELoss: 0.634555289378533\u001b[0m\n",
      "\u001b[34mEpoch: 16, BCELoss: 0.6194888811845046\u001b[0m\n",
      "\u001b[34mEpoch: 17, BCELoss: 0.5988660867397602\u001b[0m\n",
      "\u001b[34mEpoch: 18, BCELoss: 0.5676454718296344\u001b[0m\n",
      "\u001b[34mEpoch: 19, BCELoss: 0.5488004248875838\u001b[0m\n",
      "\u001b[34mEpoch: 20, BCELoss: 0.5224345601522006\u001b[0m\n",
      "\u001b[34mEpoch: 21, BCELoss: 0.5074723225373489\u001b[0m\n",
      "\u001b[34mEpoch: 22, BCELoss: 0.47860052723150986\u001b[0m\n",
      "\u001b[34mEpoch: 23, BCELoss: 0.4571782167141254\u001b[0m\n",
      "\u001b[34mEpoch: 24, BCELoss: 0.44913411828187794\u001b[0m\n",
      "\u001b[34mEpoch: 25, BCELoss: 0.42379728188881505\u001b[0m\n",
      "\u001b[34mEpoch: 26, BCELoss: 0.4220751432272104\u001b[0m\n",
      "\u001b[34mEpoch: 27, BCELoss: 0.40691837668418884\u001b[0m\n",
      "\u001b[34mEpoch: 28, BCELoss: 0.3925678844635303\u001b[0m\n",
      "\u001b[34mEpoch: 29, BCELoss: 0.3787923867885883\u001b[0m\n",
      "\u001b[34mEpoch: 30, BCELoss: 0.3696125608224135\u001b[0m\n",
      "\u001b[34mEpoch: 31, BCELoss: 0.3606957197189331\u001b[0m\n",
      "\u001b[34mEpoch: 32, BCELoss: 0.35049392397587115\u001b[0m\n",
      "\u001b[34mEpoch: 33, BCELoss: 0.34190449118614197\u001b[0m\n",
      "\u001b[34mEpoch: 34, BCELoss: 0.3430240429364718\u001b[0m\n",
      "\u001b[34mEpoch: 35, BCELoss: 0.3346713208235227\u001b[0m\n",
      "\u001b[34mEpoch: 36, BCELoss: 0.33212705988150376\u001b[0m\n",
      "\u001b[34mEpoch: 37, BCELoss: 0.3155219119328719\u001b[0m\n",
      "\u001b[34mEpoch: 38, BCELoss: 0.313869555409138\u001b[0m\n",
      "\u001b[34mEpoch: 39, BCELoss: 0.3082876755641057\u001b[0m\n",
      "\u001b[34mEpoch: 40, BCELoss: 0.30555516939896804\u001b[0m\n",
      "\u001b[34mEpoch: 41, BCELoss: 0.2988759302175962\u001b[0m\n",
      "\u001b[34mEpoch: 42, BCELoss: 0.3124725428911356\u001b[0m\n",
      "\u001b[34mEpoch: 43, BCELoss: 0.34935847841776335\u001b[0m\n",
      "\u001b[34mEpoch: 44, BCELoss: 0.35716011890998256\u001b[0m\n",
      "\u001b[34mEpoch: 45, BCELoss: 0.29502226412296295\u001b[0m\n",
      "\u001b[34mEpoch: 46, BCELoss: 0.2905022845818446\u001b[0m\n",
      "\u001b[34mEpoch: 47, BCELoss: 0.27360786268344295\u001b[0m\n",
      "\u001b[34mEpoch: 48, BCELoss: 0.2697998881340027\u001b[0m\n",
      "\u001b[34mEpoch: 49, BCELoss: 0.2635493954786888\u001b[0m\n",
      "\u001b[34mEpoch: 50, BCELoss: 0.254743014390652\u001b[0m\n",
      "\u001b[34m2021-04-02 11:11:50,134 sagemaker-containers INFO     Reporting training SUCCESS\u001b[0m\n",
      "\n",
      "2021-04-02 11:12:31 Uploading - Uploading generated training model\n",
      "2021-04-02 11:12:31 Completed - Training job completed\n",
      "ProfilerReport-1617360860: NoIssuesFound\n",
      "Training seconds: 946\n",
      "Billable seconds: 946\n",
      "CPU times: user 2.55 s, sys: 74.7 ms, total: 2.62 s\n",
      "Wall time: 18min 27s\n"
     ]
    }
   ],
   "source": [
    "%%time\n",
    "\n",
    "estimator.fit({'training': input_data})"
   ]
  },
  {
   "cell_type": "markdown",
   "id": "elder-league",
   "metadata": {},
   "source": [
    "### Deploy Model"
   ]
  },
  {
   "cell_type": "code",
   "execution_count": 198,
   "id": "active-deployment",
   "metadata": {},
   "outputs": [
    {
     "name": "stdout",
     "output_type": "stream",
     "text": [
      "-------------!"
     ]
    }
   ],
   "source": [
    "# deploy the model\n",
    "\n",
    "estimator_deploy = estimator.deploy(initial_instance_count=1, instance_type='ml.m4.xlarge') "
   ]
  },
  {
   "cell_type": "code",
   "execution_count": 199,
   "id": "bright-starter",
   "metadata": {},
   "outputs": [],
   "source": [
    "def predict(data, rows=512):\n",
    "    split_array = np.array_split(data, int(data.shape[0] / float(rows) + 1))\n",
    "    predictions = np.array([])\n",
    "    for array in split_array:\n",
    "        predictions = np.append(predictions, estimator_deploy.predict(array))\n",
    "    \n",
    "    return predictions"
   ]
  },
  {
   "cell_type": "code",
   "execution_count": 200,
   "id": "reliable-cartoon",
   "metadata": {},
   "outputs": [],
   "source": [
    "val_X = pd.concat([X_val_len, pd.DataFrame(X_val)], axis=1)"
   ]
  },
  {
   "cell_type": "code",
   "execution_count": 201,
   "id": "posted-helena",
   "metadata": {},
   "outputs": [],
   "source": [
    "predictions = predict(val_X.values)\n",
    "y_val_predict = [round(num) for num in predictions]"
   ]
  },
  {
   "cell_type": "markdown",
   "id": "genetic-stick",
   "metadata": {},
   "source": [
    "### Evaluate Model"
   ]
  },
  {
   "cell_type": "code",
   "execution_count": 202,
   "id": "sharp-subcommittee",
   "metadata": {},
   "outputs": [
    {
     "name": "stdout",
     "output_type": "stream",
     "text": [
      "\n",
      " Accuracy Score\n",
      "0.735\n",
      "\n",
      " AUC Score\n",
      "0.7090812595824979\n"
     ]
    }
   ],
   "source": [
    "# check the accuracy and auc score\n",
    "from sklearn.metrics import accuracy_score, roc_auc_score\n",
    "\n",
    "\n",
    "print('\\n Accuracy Score')\n",
    "print(accuracy_score(y_val, y_val_predict))\n",
    "print('\\n AUC Score')\n",
    "print(roc_auc_score(y_val, y_val_predict))"
   ]
  },
  {
   "cell_type": "code",
   "execution_count": 189,
   "id": "national-beads",
   "metadata": {},
   "outputs": [],
   "source": [
    "test_X = pd.concat([pd.DataFrame(test_X_len), pd.DataFrame(test_X)], axis=1)"
   ]
  },
  {
   "cell_type": "code",
   "execution_count": 203,
   "id": "connected-consistency",
   "metadata": {},
   "outputs": [],
   "source": [
    "predictions_test = predict(test_X)\n",
    "y_test_predict = [round(num) for num in predictions_test]"
   ]
  },
  {
   "cell_type": "code",
   "execution_count": 221,
   "id": "confused-circular",
   "metadata": {},
   "outputs": [],
   "source": [
    "# send test predictions to capstone data folder\n",
    "\n",
    "pd.concat([test['id'], pd.DataFrame(np.array(y_test_predict), columns=[\"predictions\"])], axis=1).to_csv(os.path.join(capstone_data_dir, 'test-predicts.csv'), header=True, index=False)"
   ]
  },
  {
   "cell_type": "code",
   "execution_count": 205,
   "id": "narrative-dominant",
   "metadata": {},
   "outputs": [],
   "source": [
    "# delete enpoint\n",
    "\n",
    "estimator_deploy.delete_endpoint()"
   ]
  },
  {
   "cell_type": "code",
   "execution_count": null,
   "id": "worse-nicaragua",
   "metadata": {},
   "outputs": [],
   "source": []
  }
 ],
 "metadata": {
  "kernelspec": {
   "display_name": "conda_mxnet_latest_p37",
   "language": "python",
   "name": "conda_mxnet_latest_p37"
  },
  "language_info": {
   "codemirror_mode": {
    "name": "ipython",
    "version": 3
   },
   "file_extension": ".py",
   "mimetype": "text/x-python",
   "name": "python",
   "nbconvert_exporter": "python",
   "pygments_lexer": "ipython3",
   "version": "3.7.10"
  }
 },
 "nbformat": 4,
 "nbformat_minor": 5
}